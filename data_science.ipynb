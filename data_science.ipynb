{
  "nbformat": 4,
  "nbformat_minor": 0,
  "metadata": {
    "colab": {
      "provenance": [],
      "authorship_tag": "ABX9TyPZ/XVX3pU9OyB/czJwS9Zy",
      "include_colab_link": true
    },
    "kernelspec": {
      "name": "python3",
      "display_name": "Python 3"
    },
    "language_info": {
      "name": "python"
    }
  },
  "cells": [
    {
      "cell_type": "markdown",
      "metadata": {
        "id": "view-in-github",
        "colab_type": "text"
      },
      "source": [
        "<a href=\"https://colab.research.google.com/github/cylissama/Alien-Probe/blob/main/data_science.ipynb\" target=\"_parent\"><img src=\"https://colab.research.google.com/assets/colab-badge.svg\" alt=\"Open In Colab\"/></a>"
      ]
    },
    {
      "cell_type": "code",
      "execution_count": 4,
      "metadata": {
        "id": "4JE2rzKkMrRG"
      },
      "outputs": [],
      "source": [
        "def four_perfect_nums(num):\n",
        "  is_perfect = False\n",
        "  sum = 0\n",
        "  # check if perfect num\n",
        "  for i in range(1, num):\n",
        "    if (num % i == 0):\n",
        "      sum += i\n",
        "  if(sum == num):\n",
        "    is_perfect = True\n",
        "  else:\n",
        "    is_perfect = False\n",
        "\n",
        "  # true or false if n is perfect number\n",
        "  return is_perfect"
      ]
    },
    {
      "cell_type": "code",
      "source": [
        "print(four_perfect_nums())"
      ],
      "metadata": {
        "colab": {
          "base_uri": "https://localhost:8080/"
        },
        "id": "SDTL1_75UVjz",
        "outputId": "9b387be5-2628-47b0-cf90-6896342ca2fc"
      },
      "execution_count": 9,
      "outputs": [
        {
          "output_type": "stream",
          "name": "stdout",
          "text": [
            "True\n"
          ]
        }
      ]
    },
    {
      "cell_type": "code",
      "source": [],
      "metadata": {
        "id": "nY30XL2DUZxF"
      },
      "execution_count": null,
      "outputs": []
    }
  ]
}